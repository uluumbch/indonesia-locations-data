{
  "cells": [
    {
      "cell_type": "code",
      "source": [
        "kec_url = 'https://github.com/uluumbch/indonesia-locations-data/raw/refs/heads/main/final_results/kecamatan_lat_long.csv'\n",
        "kota_kab_url = 'https://github.com/uluumbch/indonesia-locations-data/raw/refs/heads/main/final_results/kota_kab_lat_long.csv'\n",
        "provinsi_url = 'https://github.com/uluumbch/indonesia-locations-data/raw/refs/heads/main/final_results/provinces_lat_long.csv'"
      ],
      "metadata": {
        "id": "YGqh2FAHCxRd"
      },
      "execution_count": 2,
      "outputs": []
    },
    {
      "cell_type": "code",
      "source": [
        "!wget $kec_url -O kecamatan.csv\n",
        "!wget $kota_kab_url -O kota_kab.csv\n",
        "!wget $provinsi_url -O provinsi.csv"
      ],
      "metadata": {
        "colab": {
          "base_uri": "https://localhost:8080/"
        },
        "id": "gpKmdiWtDQkg",
        "outputId": "f131f804-d7d1-43b4-beef-ba8d0994afec"
      },
      "execution_count": 3,
      "outputs": [
        {
          "output_type": "stream",
          "name": "stdout",
          "text": [
            "--2025-06-20 01:56:48--  https://github.com/uluumbch/indonesia-locations-data/raw/refs/heads/main/final_results/kecamatan_lat_long.csv\n",
            "Resolving github.com (github.com)... 140.82.116.4\n",
            "Connecting to github.com (github.com)|140.82.116.4|:443... connected.\n",
            "HTTP request sent, awaiting response... 302 Found\n",
            "Location: https://raw.githubusercontent.com/uluumbch/indonesia-locations-data/refs/heads/main/final_results/kecamatan_lat_long.csv [following]\n",
            "--2025-06-20 01:56:48--  https://raw.githubusercontent.com/uluumbch/indonesia-locations-data/refs/heads/main/final_results/kecamatan_lat_long.csv\n",
            "Resolving raw.githubusercontent.com (raw.githubusercontent.com)... 185.199.108.133, 185.199.109.133, 185.199.111.133, ...\n",
            "Connecting to raw.githubusercontent.com (raw.githubusercontent.com)|185.199.108.133|:443... connected.\n",
            "HTTP request sent, awaiting response... 200 OK\n",
            "Length: 420402 (411K) [text/plain]\n",
            "Saving to: ‘kecamatan.csv’\n",
            "\n",
            "kecamatan.csv       100%[===================>] 410.55K  --.-KB/s    in 0.03s   \n",
            "\n",
            "2025-06-20 01:56:48 (14.3 MB/s) - ‘kecamatan.csv’ saved [420402/420402]\n",
            "\n",
            "--2025-06-20 01:56:49--  https://github.com/uluumbch/indonesia-locations-data/raw/refs/heads/main/final_results/kota_kab_lat_long.csv\n",
            "Resolving github.com (github.com)... 140.82.116.4\n",
            "Connecting to github.com (github.com)|140.82.116.4|:443... connected.\n",
            "HTTP request sent, awaiting response... 302 Found\n",
            "Location: https://raw.githubusercontent.com/uluumbch/indonesia-locations-data/refs/heads/main/final_results/kota_kab_lat_long.csv [following]\n",
            "--2025-06-20 01:56:49--  https://raw.githubusercontent.com/uluumbch/indonesia-locations-data/refs/heads/main/final_results/kota_kab_lat_long.csv\n",
            "Resolving raw.githubusercontent.com (raw.githubusercontent.com)... 185.199.108.133, 185.199.109.133, 185.199.110.133, ...\n",
            "Connecting to raw.githubusercontent.com (raw.githubusercontent.com)|185.199.108.133|:443... connected.\n",
            "HTTP request sent, awaiting response... 200 OK\n",
            "Length: 29818 (29K) [text/plain]\n",
            "Saving to: ‘kota_kab.csv’\n",
            "\n",
            "kota_kab.csv        100%[===================>]  29.12K  --.-KB/s    in 0.001s  \n",
            "\n",
            "2025-06-20 01:56:49 (21.7 MB/s) - ‘kota_kab.csv’ saved [29818/29818]\n",
            "\n",
            "--2025-06-20 01:56:49--  https://github.com/uluumbch/indonesia-locations-data/raw/refs/heads/main/final_results/provinces_lat_long.csv\n",
            "Resolving github.com (github.com)... 140.82.116.4\n",
            "Connecting to github.com (github.com)|140.82.116.4|:443... connected.\n",
            "HTTP request sent, awaiting response... 302 Found\n",
            "Location: https://raw.githubusercontent.com/uluumbch/indonesia-locations-data/refs/heads/main/final_results/provinces_lat_long.csv [following]\n",
            "--2025-06-20 01:56:49--  https://raw.githubusercontent.com/uluumbch/indonesia-locations-data/refs/heads/main/final_results/provinces_lat_long.csv\n",
            "Resolving raw.githubusercontent.com (raw.githubusercontent.com)... 185.199.108.133, 185.199.109.133, 185.199.110.133, ...\n",
            "Connecting to raw.githubusercontent.com (raw.githubusercontent.com)|185.199.108.133|:443... connected.\n",
            "HTTP request sent, awaiting response... 200 OK\n",
            "Length: 1632 (1.6K) [text/plain]\n",
            "Saving to: ‘provinsi.csv’\n",
            "\n",
            "provinsi.csv        100%[===================>]   1.59K  --.-KB/s    in 0s      \n",
            "\n",
            "2025-06-20 01:56:50 (10.3 MB/s) - ‘provinsi.csv’ saved [1632/1632]\n",
            "\n"
          ]
        }
      ]
    },
    {
      "cell_type": "code",
      "source": [
        "import pandas as pd\n",
        "import os\n",
        "\n",
        "# --- Configuration ---\n",
        "# Define file paths\n",
        "PROVINSI_FILE = 'provinsi.csv'\n",
        "KOTA_KAB_FILE = 'kota_kab.csv'\n",
        "KECAMATAN_FILE = 'kecamatan.csv'\n",
        "OUTPUT_FILE = 'merged_indonesia_data.csv'\n",
        "\n",
        "# --- Create Dummy Files if they don't exist ---\n",
        "# This part is for demonstration purposes, so the script can run even without your files.\n",
        "# You can remove this block if you have your actual CSV files in the same directory.\n",
        "if not os.path.exists(PROVINSI_FILE):\n",
        "    print(f\"'{PROVINSI_FILE}' not found. Creating a dummy file for demonstration.\")\n",
        "    provinsi_data = {'id': [11], 'name': ['ACEH'], 'lat': [4.695135], 'long': [96.74939930000001]}\n",
        "    pd.DataFrame(provinsi_data).to_csv(PROVINSI_FILE, index=False)\n",
        "\n",
        "if not os.path.exists(KOTA_KAB_FILE):\n",
        "    print(f\"'{KOTA_KAB_FILE}' not found. Creating a dummy file for demonstration.\")\n",
        "    kota_kab_data = {'id': [1101], 'foreign': [11], 'name': ['KABUPATEN SIMEULUE'], 'lat': [2.583333], 'long': [96.083333]}\n",
        "    pd.DataFrame(kota_kab_data).to_csv(KOTA_KAB_FILE, index=False)\n",
        "\n",
        "if not os.path.exists(KECAMATAN_FILE):\n",
        "    print(f\"'{KECAMATAN_FILE}' not found. Creating a dummy file for demonstration.\")\n",
        "    kecamatan_data = {'id': [1101010], 'foreign': [1101], 'name': ['TEUPAH SELATAN'], 'lat': [2.4642851395543044], 'long': [96.52043027230327]}\n",
        "    pd.DataFrame(kecamatan_data).to_csv(KECAMATAN_FILE, index=False)"
      ],
      "outputs": [],
      "execution_count": 5,
      "metadata": {
        "id": "paJinYPfCrBH"
      }
    },
    {
      "cell_type": "code",
      "source": [
        "\n",
        "# Step 1: Load the datasets with descriptive column names\n",
        "# For provinsi, the 'id' is the key for other files to link to.\n",
        "df_provinsi = pd.read_csv(PROVINSI_FILE)\n",
        "df_provinsi = df_provinsi.iloc[:, 1:]\n",
        "df_provinsi.columns = ['prov_id', 'prov_name', 'prov_lat', 'prov_long']\n",
        "\n",
        "# For kota/kab, 'id' is its own key, and 'foreign' links to provinsi.\n",
        "df_kota_kab = pd.read_csv(KOTA_KAB_FILE)\n",
        "df_kota_kab = df_kota_kab.iloc[:, 1:]\n",
        "df_kota_kab.columns = ['kota_kab_id', 'prov_id', 'kota_kab_name', 'kota_kab_lat', 'kota_kab_long']\n",
        "\n",
        "# For kecamatan, 'id' is its own key, and 'foreign' links to kota/kab.\n",
        "df_kecamatan = pd.read_csv(KECAMATAN_FILE)\n",
        "df_kecamatan = df_kecamatan.iloc[:, 1:]\n",
        "df_kecamatan.columns = ['kec_id', 'kota_kab_id', 'kec_name', 'kec_lat', 'kec_long']\n",
        "\n",
        "print(\"--- Successfully loaded all CSV files. ---\")"
      ],
      "metadata": {
        "colab": {
          "base_uri": "https://localhost:8080/"
        },
        "id": "wK9zCPMxDgLI",
        "outputId": "0d760090-d1d6-4ced-f008-9950b91dcbcf"
      },
      "execution_count": 13,
      "outputs": [
        {
          "output_type": "stream",
          "name": "stdout",
          "text": [
            "--- Successfully loaded all CSV files. ---\n"
          ]
        }
      ]
    },
    {
      "cell_type": "code",
      "source": [
        "\n",
        "# Step 2: Merge Kecamatan with Kota/Kabupaten\n",
        "# We use a 'left' merge to ensure we keep all kecamatan records.\n",
        "# The 'on' parameter specifies the key to join on, which is 'kota_kab_id'.\n",
        "# This connects each kecamatan to its respective kabupaten/kota.\n",
        "merged_df = pd.merge(df_kecamatan, df_kota_kab, on='kota_kab_id', how='left')\n",
        "print(\"--- Merged Kecamatan with Kota/Kabupaten. ---\")\n",
        "\n",
        "\n",
        "# Step 3: Merge the result with Provinsi\n",
        "# Now, we take the already merged data and connect it to the provinsi data.\n",
        "# The key for this merge is 'prov_id'.\n",
        "final_df = pd.merge(merged_df, df_provinsi, on='prov_id', how='left')\n",
        "print(\"--- Merged the result with Provinsi. ---\")\n",
        "\n",
        "\n",
        "# Step 4: Display and Save the final result\n",
        "print(\"\\n--- Final Merged DataFrame (First 5 Rows): ---\")\n",
        "print(final_df.head())\n",
        "\n",
        "# Select and reorder columns for a clean final output\n",
        "final_df = final_df[[\n",
        "    'prov_id', 'prov_name',\n",
        "    'kota_kab_id', 'kota_kab_name',\n",
        "    'kec_id', 'kec_name',\n",
        "    'kec_lat', 'kec_long',\n",
        "    'kota_kab_lat', 'kota_kab_long',\n",
        "    'prov_lat', 'prov_long'\n",
        "]]\n",
        "\n",
        "# Save the final merged dataframe to a new CSV file\n",
        "final_df.to_csv(OUTPUT_FILE, index=False)\n",
        "print(f\"\\n✅ Success! The combined data has been saved to '{OUTPUT_FILE}'\")"
      ],
      "metadata": {
        "colab": {
          "base_uri": "https://localhost:8080/"
        },
        "id": "NB712le4D6X9",
        "outputId": "f0a8af03-d9c6-4e53-c4b1-1f8107d74bf9"
      },
      "execution_count": 14,
      "outputs": [
        {
          "output_type": "stream",
          "name": "stdout",
          "text": [
            "--- Merged Kecamatan with Kota/Kabupaten. ---\n",
            "--- Merged the result with Provinsi. ---\n",
            "\n",
            "--- Final Merged DataFrame (First 5 Rows): ---\n",
            "    kec_id  kota_kab_id         kec_name   kec_lat   kec_long  prov_id  \\\n",
            "0  1101010         1101   TEUPAH SELATAN  2.464285  96.520430       11   \n",
            "1  1101020         1101   SIMEULUE TIMUR  2.640112  96.580326       11   \n",
            "2  1101021         1101     TEUPAH BARAT  2.554213  96.349640       11   \n",
            "3  1101022         1101    TEUPAH TENGAH  2.411233  96.334985       11   \n",
            "4  1101030         1101  SIMEULUE TENGAH  2.645959  96.090894       11   \n",
            "\n",
            "        kota_kab_name  kota_kab_lat  kota_kab_long prov_name  prov_lat  \\\n",
            "0  KABUPATEN SIMEULUE      2.583333      96.083333      ACEH  4.695135   \n",
            "1  KABUPATEN SIMEULUE      2.583333      96.083333      ACEH  4.695135   \n",
            "2  KABUPATEN SIMEULUE      2.583333      96.083333      ACEH  4.695135   \n",
            "3  KABUPATEN SIMEULUE      2.583333      96.083333      ACEH  4.695135   \n",
            "4  KABUPATEN SIMEULUE      2.583333      96.083333      ACEH  4.695135   \n",
            "\n",
            "   prov_long  \n",
            "0  96.749399  \n",
            "1  96.749399  \n",
            "2  96.749399  \n",
            "3  96.749399  \n",
            "4  96.749399  \n",
            "\n",
            "✅ Success! The combined data has been saved to 'merged_indonesia_data.csv'\n"
          ]
        }
      ]
    }
  ],
  "metadata": {
    "colab": {
      "provenance": []
    },
    "kernelspec": {
      "display_name": "Python 3",
      "name": "python3"
    }
  },
  "nbformat": 4,
  "nbformat_minor": 0
}